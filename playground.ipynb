{
 "cells": [
  {
   "cell_type": "code",
   "execution_count": 3,
   "metadata": {},
   "outputs": [],
   "source": [
    "import numpy as np\n",
    "import matplotlib.pyplot as plt\n",
    "\n",
    "import torch\n",
    "from torch.nn import Module, Sequential, Linear, Conv2d, ReLU, Tanh, Dropout, BatchNorm1d\n",
    "from torch.utils.data import DataLoader\n",
    "from torch import optim\n",
    "from torch.nn.functional import normalize"
   ]
  },
  {
   "cell_type": "code",
   "execution_count": 28,
   "metadata": {},
   "outputs": [
    {
     "name": "stdout",
     "output_type": "stream",
     "text": [
      "tensor([[ 1.,  1.,  1.],\n",
      "        [-2.,  1., -2.]])\n",
      "tensor([[1.],\n",
      "        [2.]])\n",
      "tensor([[ 1.0000,  1.0000,  1.0000],\n",
      "        [-1.0000,  0.5000, -1.0000]])\n",
      "tensor([[ 1.,  1.,  1.],\n",
      "        [-2.,  1., -2.]])\n"
     ]
    }
   ],
   "source": [
    "a = torch.tensor([[1,1,1], [-2,1,-2]]).float()\n",
    "print(a)\n",
    "print(a.abs().max(1, keepdim=True)[0])\n",
    "b = a/ a.abs().max(1, keepdim=True)[0]\n",
    "print(b)\n",
    "print(a)"
   ]
  },
  {
   "cell_type": "code",
   "execution_count": null,
   "metadata": {},
   "outputs": [],
   "source": []
  }
 ],
 "metadata": {
  "kernelspec": {
   "display_name": "Python 3.9.13 ('ML')",
   "language": "python",
   "name": "python3"
  },
  "language_info": {
   "codemirror_mode": {
    "name": "ipython",
    "version": 3
   },
   "file_extension": ".py",
   "mimetype": "text/x-python",
   "name": "python",
   "nbconvert_exporter": "python",
   "pygments_lexer": "ipython3",
   "version": "3.9.13"
  },
  "orig_nbformat": 4,
  "vscode": {
   "interpreter": {
    "hash": "9636e58ebc278984d2143d1887f6125ef140fff43f38e8ad87c4235bb0c0decd"
   }
  }
 },
 "nbformat": 4,
 "nbformat_minor": 2
}
